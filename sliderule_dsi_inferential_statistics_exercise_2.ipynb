{
 "cells": [
  {
   "cell_type": "markdown",
   "metadata": {},
   "source": [
    "# Examining Racial Discrimination in the US Job Market\n",
    "\n",
    "### Background\n",
    "Racial discrimination continues to be pervasive in cultures throughout the world. Researchers examined the level of racial discrimination in the United States labor market by randomly assigning identical résumés to black-sounding or white-sounding names and observing the impact on requests for interviews from employers.\n",
    "\n",
    "### Data\n",
    "In the dataset provided, each row represents a resume. The 'race' column has two values, 'b' and 'w', indicating black-sounding and white-sounding. The column 'call' has two values, 1 and 0, indicating whether the resume received a call from employers or not.\n",
    "\n",
    "Note that the 'b' and 'w' values in race are assigned randomly to the resumes when presented to the employer."
   ]
  },
  {
   "cell_type": "markdown",
   "metadata": {},
   "source": [
    "### Exercises\n",
    "You will perform a statistical analysis to establish whether race has a significant impact on the rate of callbacks for resumes.\n",
    "\n",
    "Answer the following questions **in this notebook below and submit to your Github account**. \n",
    "\n",
    "   1. What test is appropriate for this problem? Does CLT apply?\n",
    "   2. What are the null and alternate hypotheses?\n",
    "   3. Compute margin of error, confidence interval, and p-value. Try using both the bootstrapping and the frequentist statistical approaches.\n",
    "   4. Write a story describing the statistical significance in the context or the original problem.\n",
    "   5. Does your analysis mean that race/name is the most important factor in callback success? Why or why not? If not, how would you amend your analysis?\n",
    "\n",
    "You can include written notes in notebook cells using Markdown: \n",
    "   - In the control panel at the top, choose Cell > Cell Type > Markdown\n",
    "   - Markdown syntax: http://nestacms.com/docs/creating-content/markdown-cheat-sheet\n",
    "\n",
    "#### Resources\n",
    "+ Experiment information and data source: http://www.povertyactionlab.org/evaluation/discrimination-job-market-united-states\n",
    "+ Scipy statistical methods: http://docs.scipy.org/doc/scipy/reference/stats.html \n",
    "+ Markdown syntax: http://nestacms.com/docs/creating-content/markdown-cheat-sheet\n",
    "+ Formulas for the Bernoulli distribution: https://en.wikipedia.org/wiki/Bernoulli_distribution"
   ]
  },
  {
   "cell_type": "code",
   "execution_count": 1,
   "metadata": {},
   "outputs": [],
   "source": [
    "import pandas as pd\n",
    "import numpy as np\n",
    "from scipy import stats"
   ]
  },
  {
   "cell_type": "code",
   "execution_count": 2,
   "metadata": {},
   "outputs": [],
   "source": [
    "data = pd.io.stata.read_stata('data/us_job_market_discrimination.dta')"
   ]
  },
  {
   "cell_type": "code",
   "execution_count": 3,
   "metadata": {},
   "outputs": [
    {
     "data": {
      "text/plain": [
       "235.0"
      ]
     },
     "execution_count": 3,
     "metadata": {},
     "output_type": "execute_result"
    }
   ],
   "source": [
    "# number of callbacks for black-sounding names\n",
    "sum(data[data.race=='w'].call)"
   ]
  },
  {
   "cell_type": "code",
   "execution_count": 19,
   "metadata": {},
   "outputs": [
    {
     "name": "stdout",
     "output_type": "stream",
     "text": [
      "  id ad  education  ofjobs  yearsexp  honors  volunteer  military  empholes  \\\n",
      "0  b  1          4       2         6       0          0         0         1   \n",
      "1  b  1          3       3         6       0          1         1         0   \n",
      "2  b  1          4       1         6       0          0         0         0   \n",
      "3  b  1          3       4         6       0          1         0         1   \n",
      "4  b  1          3       3        22       0          0         0         0   \n",
      "\n",
      "   occupspecific  ...  compreq  orgreq  manuf  transcom  bankreal trade  \\\n",
      "0             17  ...      1.0     0.0    1.0       0.0       0.0   0.0   \n",
      "1            316  ...      1.0     0.0    1.0       0.0       0.0   0.0   \n",
      "2             19  ...      1.0     0.0    1.0       0.0       0.0   0.0   \n",
      "3            313  ...      1.0     0.0    1.0       0.0       0.0   0.0   \n",
      "4            313  ...      1.0     1.0    0.0       0.0       0.0   0.0   \n",
      "\n",
      "  busservice othservice  missind  ownership  \n",
      "0        0.0        0.0      0.0             \n",
      "1        0.0        0.0      0.0             \n",
      "2        0.0        0.0      0.0             \n",
      "3        0.0        0.0      0.0             \n",
      "4        0.0        1.0      0.0  Nonprofit  \n",
      "\n",
      "[5 rows x 65 columns]\n",
      "['id' 'ad' 'education' 'ofjobs' 'yearsexp' 'honors' 'volunteer' 'military'\n",
      " 'empholes' 'occupspecific' 'occupbroad' 'workinschool' 'email'\n",
      " 'computerskills' 'specialskills' 'firstname' 'sex' 'race' 'h' 'l' 'call'\n",
      " 'city' 'kind' 'adid' 'fracblack' 'fracwhite' 'lmedhhinc' 'fracdropout'\n",
      " 'fraccolp' 'linc' 'col' 'expminreq' 'schoolreq' 'eoe' 'parent_sales'\n",
      " 'parent_emp' 'branch_sales' 'branch_emp' 'fed' 'fracblack_empzip'\n",
      " 'fracwhite_empzip' 'lmedhhinc_empzip' 'fracdropout_empzip'\n",
      " 'fraccolp_empzip' 'linc_empzip' 'manager' 'supervisor' 'secretary'\n",
      " 'offsupport' 'salesrep' 'retailsales' 'req' 'expreq' 'comreq' 'educreq'\n",
      " 'compreq' 'orgreq' 'manuf' 'transcom' 'bankreal' 'trade' 'busservice'\n",
      " 'othservice' 'missind' 'ownership']\n",
      "count    4870.000000\n",
      "mean        0.080493\n",
      "std         0.272083\n",
      "min         0.000000\n",
      "25%         0.000000\n",
      "50%         0.000000\n",
      "75%         0.000000\n",
      "max         1.000000\n",
      "Name: call, dtype: float64\n"
     ]
    }
   ],
   "source": [
    "print(data.head())\n",
    "\n",
    "print(data.columns.values)\n",
    "print(data.call.describe())"
   ]
  },
  {
   "cell_type": "code",
   "execution_count": 20,
   "metadata": {},
   "outputs": [
    {
     "name": "stdout",
     "output_type": "stream",
     "text": [
      "3.664476386036961\n",
      "3.6583162217659138\n",
      "3.661396303901437\n",
      "0.09650924\n",
      "0.064476386\n"
     ]
    }
   ],
   "source": [
    "w = data[data.race=='w']\n",
    "b = data[data.race=='b']\n",
    "print(w.ofjobs.mean())\n",
    "print(b.ofjobs.mean())\n",
    "\n",
    "print(data.ofjobs.mean())\n",
    "\n",
    "\n",
    "print(w.call.mean())\n",
    "print(b.call.mean())"
   ]
  },
  {
   "cell_type": "raw",
   "metadata": {
    "collapsed": true
   },
   "source": [
    "People with race listed as white received a lot more call back on average than People with race listed as black"
   ]
  },
  {
   "cell_type": "code",
   "execution_count": null,
   "metadata": {
    "collapsed": true
   },
   "outputs": [],
   "source": []
  }
 ],
 "metadata": {
  "kernelspec": {
   "display_name": "Python 3",
   "language": "python",
   "name": "python3"
  },
  "language_info": {
   "codemirror_mode": {
    "name": "ipython",
    "version": 3
   },
   "file_extension": ".py",
   "mimetype": "text/x-python",
   "name": "python",
   "nbconvert_exporter": "python",
   "pygments_lexer": "ipython3",
   "version": "3.7.2"
  }
 },
 "nbformat": 4,
 "nbformat_minor": 1
}
